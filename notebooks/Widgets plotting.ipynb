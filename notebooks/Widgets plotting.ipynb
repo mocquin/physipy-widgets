{
 "cells": [
  {
   "attachments": {},
   "cell_type": "markdown",
   "id": "208209dc-a8d7-40fd-940a-11a4c024fbe7",
   "metadata": {},
   "source": [
    "# Wrapped function\n",
    "A single class that wrap the function and a plot"
   ]
  },
  {
   "cell_type": "code",
   "execution_count": 1,
   "id": "65422fb5-0671-4f5f-aac3-29989bf125c2",
   "metadata": {},
   "outputs": [
    {
     "name": "stdout",
     "output_type": "stream",
     "text": [
      "11\n"
     ]
    },
    {
     "data": {
      "application/vnd.jupyter.widget-view+json": {
       "model_id": "e40ce8e98d6c4cfe88159b7e6c548e8b",
       "version_major": 2,
       "version_minor": 0
      },
      "text/plain": [
       "HBox(children=(Output(), VBox(children=(QuantityTextSlider(value=<Quantity : 0 m, symbol=m*UndefinedSymbol>, c…"
      ]
     },
     "metadata": {},
     "output_type": "display_data"
    },
    {
     "data": {
      "text/plain": []
     },
     "execution_count": 1,
     "metadata": {},
     "output_type": "execute_result"
    }
   ],
   "source": [
    "%matplotlib qt\n",
    "\n",
    "from physipy import m, s\n",
    "from physipy.qwidgets.plot_ui import WrappedFunction1D\n",
    "from physipy.quantity.utils import name_eq\n",
    "\n",
    "@name_eq(\"Myfunc\")        \n",
    "def func(x1, x2, x3):\n",
    "    return x1*x2 + 3 * x3\n",
    "\n",
    "wf = WrappedFunction1D(func, 0*s, 5*s, \n",
    "                       x2=(0*m, 5*m),\n",
    "                       x3=(0*m*s, 5*m*s))\n",
    "\n",
    "print(wf(1, 2, 3))\n",
    "\n",
    "def add_integral():\n",
    "    p = wf.add_integral(1*s, 5*s)\n",
    "wf"
   ]
  }
 ],
 "metadata": {
  "jupytext": {
   "text_representation": {
    "extension": ".py",
    "format_name": "percent",
    "format_version": "1.3",
    "jupytext_version": "1.13.4"
   }
  },
  "kernelspec": {
   "display_name": "Python 3 (ipykernel)",
   "language": "python",
   "name": "python3"
  },
  "language_info": {
   "codemirror_mode": {
    "name": "ipython",
    "version": 3
   },
   "file_extension": ".py",
   "mimetype": "text/x-python",
   "name": "python",
   "nbconvert_exporter": "python",
   "pygments_lexer": "ipython3",
   "version": "3.9.7"
  }
 },
 "nbformat": 4,
 "nbformat_minor": 5
}
