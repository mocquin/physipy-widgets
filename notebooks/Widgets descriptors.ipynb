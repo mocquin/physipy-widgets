{
 "cells": [
  {
   "cell_type": "markdown",
   "id": "cf4a1e27-9779-4968-a48b-743d984ba771",
   "metadata": {},
   "source": [
    "# Idea"
   ]
  },
  {
   "cell_type": "markdown",
   "id": "71fb1c57-56bd-47d1-a955-cf6a274ffbc0",
   "metadata": {},
   "source": [
    "Often I was ending up defining an interface to handle a quantity using both a widget, mostly sliders, and as an attribute, like this : this allows to use both a slider and an attribute to control the value of a quantity"
   ]
  },
  {
   "cell_type": "code",
   "execution_count": 21,
   "id": "c3c0fab1-7569-4188-8783-a21842a0fc0c",
   "metadata": {},
   "outputs": [
    {
     "name": "stdout",
     "output_type": "stream",
     "text": [
      "200.0 W\n"
     ]
    },
    {
     "data": {
      "text/latex": [
       "$200.0\\,W$"
      ],
      "text/plain": [
       "<Quantity : 200.0 kg*m**2/s**3, symbol=W*UndefinedSymbol>"
      ]
     },
     "metadata": {},
     "output_type": "display_data"
    },
    {
     "data": {
      "application/vnd.jupyter.widget-view+json": {
       "model_id": "dfe7469ab3994a34929ee22d01e74101",
       "version_major": 2,
       "version_minor": 0
      },
      "text/plain": [
       "QuantitySlider(value=<Quantity : 200.0 kg*m**2/s**3, symbol=W*UndefinedSymbol>, children=(FloatSlider(value=10…"
      ]
     },
     "metadata": {},
     "output_type": "display_data"
    }
   ],
   "source": [
    "from physipy import m, units, s\n",
    "from physipy.qwidgets.qipywidgets import QuantitySlider, QuantityTextSlider\n",
    "W = units[\"W\"]\n",
    "\n",
    "class Car():\n",
    "    def __init__(self, max_speed, power):\n",
    "        # define widgets\n",
    "        self.max_speed_w = QuantitySlider(min=0*m/s, max=100*m/s, value=max_speed, description=\"Max speed\")\n",
    "        self.power_w = QuantitySlider(min=0*W, max=100*W, value=power, description=\"Power\")\n",
    "        \n",
    "    @property\n",
    "    def max_speed(self):\n",
    "        return self.max_speed_w.value\n",
    "    @property\n",
    "    def power(self):\n",
    "        return self.power_w.value\n",
    "    @max_speed.setter\n",
    "    def max_speed(self, value):\n",
    "        self.max_speed_w.value = value\n",
    "    @power.setter\n",
    "    def power(self, value):\n",
    "        self.power_w.value = value\n",
    "        \n",
    "        \n",
    "car = Car(30*m/s, 200*W)\n",
    "\n",
    "print(car.power)\n",
    "display(car.power)\n",
    "display(car.power_w)"
   ]
  },
  {
   "cell_type": "code",
   "execution_count": 22,
   "id": "eaf2029d-7d6c-4f32-8a89-092014b4320b",
   "metadata": {},
   "outputs": [
    {
     "name": "stdout",
     "output_type": "stream",
     "text": [
      "200.0 W\n"
     ]
    }
   ],
   "source": [
    "print(car.power)\n"
   ]
  },
  {
   "cell_type": "markdown",
   "id": "1c364b67-bbe1-4593-9d35-470493ca14d6",
   "metadata": {},
   "source": [
    "But notice that a lot of code is repetitive and not really interesting, it just define an interface and relation between the slider and a property-like attribute.\n",
    "This is ok for a class with 2 sliders, but it quickly get messy for many quantities. "
   ]
  },
  {
   "cell_type": "markdown",
   "id": "8807c611-0242-41a3-96d5-92b8f071333b",
   "metadata": {},
   "source": [
    "That's where descriptors come to the rescue."
   ]
  },
  {
   "cell_type": "markdown",
   "id": "84db2ce3-3c06-4362-b14a-7c7cf9061c64",
   "metadata": {},
   "source": [
    "Now the same Car class can be concisely writtern : "
   ]
  },
  {
   "cell_type": "code",
   "execution_count": 1,
   "id": "a9cee26d-4418-4bbc-a229-20bc05f5f096",
   "metadata": {},
   "outputs": [
    {
     "name": "stdout",
     "output_type": "stream",
     "text": [
      "200.0 W\n"
     ]
    },
    {
     "data": {
      "text/latex": [
       "$200.0\\,W$"
      ],
      "text/plain": [
       "<Quantity : 200.0 kg*m**2/s**3, symbol=W*UndefinedSymbol>"
      ]
     },
     "metadata": {},
     "output_type": "display_data"
    },
    {
     "data": {
      "application/vnd.jupyter.widget-view+json": {
       "model_id": "ce37a9fd3d874ac0aa28df40289c5498",
       "version_major": 2,
       "version_minor": 0
      },
      "text/plain": [
       "QuantityTextSlider(value=<Quantity : 200.0 kg*m**2/s**3, symbol=W*UndefinedSymbol>, children=(QuantitySlider(v…"
      ]
     },
     "metadata": {},
     "output_type": "display_data"
    }
   ],
   "source": [
    "from physipy import m, s, units\n",
    "from physipy.qwidgets.qipywidgets import QuantitySliderDescriptor\n",
    "W = units[\"W\"]\n",
    "\n",
    "\n",
    "class Car():\n",
    "    max_speed = QuantitySliderDescriptor(min=0*m/s, max=100*m/s)\n",
    "    power = QuantitySliderDescriptor(min=0*W, max=100*W)\n",
    "    \n",
    "    def __init__(self, max_speed, power):\n",
    "        self.max_speed = max_speed\n",
    "        self.power = power\n",
    "        \n",
    "car = Car(30*m/s, 200*W)\n",
    "print(car.power)\n",
    "display(car.power)\n",
    "display(car.power_w)"
   ]
  },
  {
   "cell_type": "code",
   "execution_count": 3,
   "id": "b450ff82-a3bc-4afb-8911-5b87b69a4e79",
   "metadata": {},
   "outputs": [
    {
     "data": {
      "text/latex": [
       "$37.4\\,W$"
      ],
      "text/plain": [
       "<Quantity : 37.4 kg*m**2/s**3>"
      ]
     },
     "metadata": {},
     "output_type": "display_data"
    },
    {
     "data": {
      "application/vnd.jupyter.widget-view+json": {
       "model_id": "ce37a9fd3d874ac0aa28df40289c5498",
       "version_major": 2,
       "version_minor": 0
      },
      "text/plain": [
       "QuantityTextSlider(value=<Quantity : 37.4 kg*m**2/s**3>, children=(QuantitySlider(value=<Quantity : 37.4 kg*m*…"
      ]
     },
     "metadata": {},
     "output_type": "display_data"
    }
   ],
   "source": [
    "display(car.power)\n",
    "display(car.power_w)"
   ]
  },
  {
   "cell_type": "code",
   "execution_count": null,
   "id": "6229345c-1ef3-41ff-a6cc-83385dae5d54",
   "metadata": {},
   "outputs": [],
   "source": []
  }
 ],
 "metadata": {
  "jupytext": {
   "text_representation": {
    "extension": ".py",
    "format_name": "percent",
    "format_version": "1.3",
    "jupytext_version": "1.13.4"
   }
  },
  "kernelspec": {
   "display_name": "Python 3 (ipykernel)",
   "language": "python",
   "name": "python3"
  },
  "language_info": {
   "codemirror_mode": {
    "name": "ipython",
    "version": 3
   },
   "file_extension": ".py",
   "mimetype": "text/x-python",
   "name": "python",
   "nbconvert_exporter": "python",
   "pygments_lexer": "ipython3",
   "version": "3.9.7"
  }
 },
 "nbformat": 4,
 "nbformat_minor": 5
}
