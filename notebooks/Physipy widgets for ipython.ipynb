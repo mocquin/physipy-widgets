{
 "cells": [
  {
   "attachments": {},
   "cell_type": "markdown",
   "metadata": {},
   "source": [
    "# Quickstart of available widgets "
   ]
  },
  {
   "cell_type": "code",
   "execution_count": 4,
   "metadata": {},
   "outputs": [
    {
     "name": "stdout",
     "output_type": "stream",
     "text": [
      "4000.0 mm\n"
     ]
    }
   ],
   "source": [
    "import ipywidgets as ipyw\n",
    "from numpy import pi\n",
    "\n",
    "from physipy import m, s, Quantity, Dimension, rad, units\n",
    "from physipywidgets.qipywidgets import (\n",
    "    QuantityText, \n",
    "    QuantitySlider, \n",
    "    QuantityTextSlider,\n",
    "    QuantityRangeSlider,\n",
    "    FavunitDropdown,\n",
    "    QuantityTextWithFavunitDropdown\n",
    ")\n",
    "\n",
    "# First a regular Quantity object from physipy\n",
    "mm = units[\"mm\"]\n",
    "a = 4*m\n",
    "a.favunit = mm\n",
    "print(a)"
   ]
  },
  {
   "cell_type": "code",
   "execution_count": 5,
   "metadata": {},
   "outputs": [
    {
     "data": {
      "text/latex": [
       "$1.0\\,mm$"
      ],
      "text/plain": [
       "<Quantity : 0.001 m, symbol=mm>"
      ]
     },
     "execution_count": 5,
     "metadata": {},
     "output_type": "execute_result"
    }
   ],
   "source": [
    "a.favunit"
   ]
  },
  {
   "cell_type": "code",
   "execution_count": 8,
   "metadata": {},
   "outputs": [
    {
     "data": {
      "application/vnd.jupyter.widget-view+json": {
       "model_id": "3dd996117e23436495eb20452fa5f8ef",
       "version_major": 2,
       "version_minor": 0
      },
      "text/plain": [
       "QuantityText(value=<Quantity : 4 m, symbol=m*UndefinedSymbol>, children=(Text(value='4000.0 mm', description='…"
      ]
     },
     "execution_count": 8,
     "metadata": {},
     "output_type": "execute_result"
    }
   ],
   "source": [
    "qt = QuantityText(a, description=\"Text\")\n",
    "qt"
   ]
  },
  {
   "cell_type": "code",
   "execution_count": 9,
   "metadata": {
    "lines_to_next_cell": 2
   },
   "outputs": [
    {
     "data": {
      "application/vnd.jupyter.widget-view+json": {
       "model_id": "71eb5a8590854a86993ee65cc892946d",
       "version_major": 2,
       "version_minor": 0
      },
      "text/plain": [
       "VBox(children=(QuantityText(value=<Quantity : 4 m, symbol=m*UndefinedSymbol>, children=(Text(value='4000.0 mm'…"
      ]
     },
     "execution_count": 9,
     "metadata": {},
     "output_type": "execute_result"
    }
   ],
   "source": [
    "# Text area\n",
    "qt = QuantityText(a, description=\"Text\")\n",
    "# Slider\n",
    "qs = QuantitySlider(a**2, description=\"Slider\")\n",
    "# Linked Text-Slider\n",
    "qts = QuantityTextSlider(a**0.5, description=\"Text-Slider\")\n",
    "# Range slider\n",
    "qrs = QuantityRangeSlider(a, 10*a, label=True, description=\"Range-Slider\")\n",
    "# Dropdown\n",
    "favunit_dd = FavunitDropdown()\n",
    "# Quantity text with Favunit dropdown\n",
    "qt_wfavunit = QuantityTextWithFavunitDropdown(a**2)\n",
    "\n",
    "ipyw.VBox([\n",
    "    qt, \n",
    "    qs,\n",
    "    qts,\n",
    "    qrs,\n",
    "    favunit_dd,\n",
    "    qt_wfavunit,\n",
    "])"
   ]
  },
  {
   "attachments": {},
   "cell_type": "markdown",
   "metadata": {},
   "source": [
    "For most widgets, a \"Fixed-Dimension\" version is available, prefixed \"FD\". Once defined, you can't change the value to a quantity with another dimension."
   ]
  },
  {
   "attachments": {},
   "cell_type": "markdown",
   "metadata": {},
   "source": [
    "Functionnalitities : \n",
    " - VBoxing, HBoxing : `ipyw.VBox([qw, qw])`\n",
    " - interact with abbreviation : `interact(3*m)`\n",
    " - interact with widget : `interact(QuantityText(3*m))`\n",
    " - interactive : `w = ipyw.interactive(slow_function, i=qs)`\n",
    " - interactive_output : `out = ipyw.interactive_output(f, {'a': wa, 'b': wb, 'c': wc})`\n",
    " - observe : \n",
    " - link : `mylink = ipyw.link((qw1, 'value'), (qw2, 'value'))`\n",
    " - jslink : `mylink = ipyw.jslink((qw1, 'value'), (qw2, 'value'))`"
   ]
  },
  {
   "attachments": {},
   "cell_type": "markdown",
   "metadata": {},
   "source": [
    "# Text"
   ]
  },
  {
   "attachments": {},
   "cell_type": "markdown",
   "metadata": {},
   "source": [
    "2 types that inherit from QuantityText : \n",
    " - free QuantityText\n",
    " - Fixed-dimension \"FDQuantityText\""
   ]
  },
  {
   "attachments": {},
   "cell_type": "markdown",
   "metadata": {},
   "source": [
    "## QuantityText\n",
    "Basically a text area that will parse python expression into a numerical physical Quantity. It can be dimensionless (like 5 or 2\\*pi), and can be of any dimension at any time:"
   ]
  },
  {
   "cell_type": "code",
   "execution_count": 3,
   "metadata": {},
   "outputs": [
    {
     "data": {
      "application/vnd.jupyter.widget-view+json": {
       "model_id": "203cc29ab2a54443974f3394424c76d2",
       "version_major": 2,
       "version_minor": 0
      },
      "text/plain": [
       "QuantityText(value=<Quantity : 0.0 >, children=(Text(value='0.0 -', description='Quantity:', layout=Layout(bor…"
      ]
     },
     "execution_count": 3,
     "metadata": {},
     "output_type": "execute_result"
    }
   ],
   "source": [
    "w = QuantityText()\n",
    "w"
   ]
  },
  {
   "attachments": {},
   "cell_type": "markdown",
   "metadata": {},
   "source": [
    "A QuantityText has typical attributes of a widget and a Quantity, except the `value` is the actual Quantity, not the value of the Quantity : "
   ]
  },
  {
   "cell_type": "code",
   "execution_count": 4,
   "metadata": {},
   "outputs": [
    {
     "name": "stdout",
     "output_type": "stream",
     "text": [
      "0.0 -\n",
      "0.0\n",
      "False\n"
     ]
    }
   ],
   "source": [
    "print(w.value)\n",
    "print(w.value.value)\n",
    "#print(w.description)\n",
    "print(w.fixed_dimension)"
   ]
  },
  {
   "cell_type": "code",
   "execution_count": 5,
   "metadata": {},
   "outputs": [
    {
     "name": "stdout",
     "output_type": "stream",
     "text": [
      "0.0 -\n"
     ]
    }
   ],
   "source": [
    "print(w.value)\n",
    "#print(w.description)"
   ]
  },
  {
   "cell_type": "code",
   "execution_count": 6,
   "metadata": {},
   "outputs": [
    {
     "name": "stdout",
     "output_type": "stream",
     "text": [
      "0.0 -\n"
     ]
    }
   ],
   "source": [
    "print(w.value)\n",
    "#print(w.description)"
   ]
  },
  {
   "attachments": {},
   "cell_type": "markdown",
   "metadata": {},
   "source": [
    "With custom description : "
   ]
  },
  {
   "cell_type": "code",
   "execution_count": 7,
   "metadata": {},
   "outputs": [
    {
     "data": {
      "application/vnd.jupyter.widget-view+json": {
       "model_id": "24f64ce3f2064d038a39f358159683b3",
       "version_major": 2,
       "version_minor": 0
      },
      "text/plain": [
       "QuantityText(value=<Quantity : 0.0 >, children=(Text(value='0.0 -', description='Weight', layout=Layout(border…"
      ]
     },
     "execution_count": 7,
     "metadata": {},
     "output_type": "execute_result"
    }
   ],
   "source": [
    "QuantityText(description=\"Weight\")"
   ]
  },
  {
   "attachments": {},
   "cell_type": "markdown",
   "metadata": {},
   "source": [
    "With init value"
   ]
  },
  {
   "cell_type": "code",
   "execution_count": 8,
   "metadata": {},
   "outputs": [
    {
     "data": {
      "application/vnd.jupyter.widget-view+json": {
       "model_id": "7b19b67a2a87465bbda80938f86af507",
       "version_major": 2,
       "version_minor": 0
      },
      "text/plain": [
       "QuantityText(value=<Quantity : 6.283185307179586 s, symbol=s*UndefinedSymbol>, children=(Text(value='0.6283185…"
      ]
     },
     "execution_count": 8,
     "metadata": {},
     "output_type": "execute_result"
    }
   ],
   "source": [
    "w = QuantityText(2*pi*s)\n",
    "w"
   ]
  },
  {
   "cell_type": "code",
   "execution_count": 9,
   "metadata": {},
   "outputs": [
    {
     "data": {
      "application/vnd.jupyter.widget-view+json": {
       "model_id": "4bc95e8d450a475fbd2401036501ff68",
       "version_major": 2,
       "version_minor": 0
      },
      "text/plain": [
       "QuantityText(value=<Quantity : 6.283185307179586 rad, symbol=rad*UndefinedSymbol>, children=(Text(value='0.628…"
      ]
     },
     "execution_count": 9,
     "metadata": {},
     "output_type": "execute_result"
    }
   ],
   "source": [
    "QuantityText(2*pi*rad, description=\"Angle\")"
   ]
  },
  {
   "attachments": {},
   "cell_type": "markdown",
   "metadata": {},
   "source": [
    "A `fixed_dimension` attribute can be set to allow change of dimension. By default is false, and so dimension can be changed"
   ]
  },
  {
   "cell_type": "code",
   "execution_count": 10,
   "metadata": {},
   "outputs": [
    {
     "name": "stdout",
     "output_type": "stream",
     "text": [
      "False\n"
     ]
    },
    {
     "data": {
      "application/vnd.jupyter.widget-view+json": {
       "model_id": "4304bed9448942edaf446f5ab332959c",
       "version_major": 2,
       "version_minor": 0
      },
      "text/plain": [
       "QuantityText(value=<Quantity : 6.283185307179586 s, symbol=s*UndefinedSymbol>, children=(Text(value='0.6283185…"
      ]
     },
     "execution_count": 10,
     "metadata": {},
     "output_type": "execute_result"
    }
   ],
   "source": [
    "# start with seconds ...\n",
    "a = QuantityText(2*pi*s)\n",
    "print(a.fixed_dimension)\n",
    "a"
   ]
  },
  {
   "cell_type": "code",
   "execution_count": 11,
   "metadata": {},
   "outputs": [
    {
     "name": "stdout",
     "output_type": "stream",
     "text": [
      "0.2 das*rad/s\n",
      "False\n"
     ]
    }
   ],
   "source": [
    "# ... then change into radians\n",
    "a.value = 2*rad\n",
    "print(a.value)\n",
    "print(a.fixed_dimension)"
   ]
  },
  {
   "cell_type": "code",
   "execution_count": 12,
   "metadata": {},
   "outputs": [
    {
     "data": {
      "application/vnd.jupyter.widget-view+json": {
       "model_id": "2156952d897b44728080d3a37ed78a7f",
       "version_major": 2,
       "version_minor": 0
      },
      "text/plain": [
       "QuantityText(value=<Quantity : 6.283185307179586 s, symbol=s*UndefinedSymbol>, children=(Text(value='0.6283185…"
      ]
     },
     "execution_count": 12,
     "metadata": {},
     "output_type": "execute_result"
    }
   ],
   "source": [
    "# if fixed_dimension=True ...\n",
    "b = QuantityText(2*pi*s, fixed_dimension=True)\n",
    "b"
   ]
  },
  {
   "cell_type": "code",
   "execution_count": 13,
   "metadata": {},
   "outputs": [
    {
     "name": "stdout",
     "output_type": "stream",
     "text": [
      "b.fixed_dimension = True , hence Quantity must be same dimension.\n"
     ]
    }
   ],
   "source": [
    "# ... cannot be changed\n",
    "try:\n",
    "    b.value = 2*m\n",
    "except:\n",
    "    print(\"b.fixed_dimension =\", b.fixed_dimension,\n",
    "          \", hence Quantity must be same dimension.\")"
   ]
  },
  {
   "cell_type": "code",
   "execution_count": 19,
   "metadata": {},
   "outputs": [
    {
     "data": {
      "application/vnd.jupyter.widget-view+json": {
       "model_id": "de4e1b48377048dcb308eb72776899b7",
       "version_major": 2,
       "version_minor": 0
      },
      "text/plain": [
       "QuantityTextSlider(value=<Quantity : 3 m, symbol=m*UndefinedSymbol>, children=(QuantitySlider(value=<Quantity …"
      ]
     },
     "execution_count": 19,
     "metadata": {},
     "output_type": "execute_result"
    }
   ],
   "source": [
    "# handle favunit\n",
    "a = 3*m\n",
    "a.favunit = mm\n",
    "w = QuantityTextSlider(a)\n",
    "w"
   ]
  },
  {
   "cell_type": "code",
   "execution_count": 22,
   "metadata": {},
   "outputs": [
    {
     "data": {
      "application/vnd.jupyter.widget-view+json": {
       "model_id": "509c903f67094f91bdceb31be55e404d",
       "version_major": 2,
       "version_minor": 0
      },
      "text/plain": [
       "QuantityTextSlider(value=<Quantity : 3 m, symbol=m*UndefinedSymbol>, children=(QuantitySlider(value=<Quantity …"
      ]
     },
     "execution_count": 22,
     "metadata": {},
     "output_type": "execute_result"
    }
   ],
   "source": [
    "w = QuantityTextSlider(3*m)\n",
    "w"
   ]
  },
  {
   "cell_type": "code",
   "execution_count": 23,
   "metadata": {},
   "outputs": [
    {
     "data": {
      "application/vnd.jupyter.widget-view+json": {
       "model_id": "509c903f67094f91bdceb31be55e404d",
       "version_major": 2,
       "version_minor": 0
      },
      "text/plain": [
       "QuantityTextSlider(value=<Quantity : 52.5 m>, children=(QuantitySlider(value=<Quantity : 52.5 m>, children=(Fl…"
      ]
     },
     "execution_count": 23,
     "metadata": {},
     "output_type": "execute_result"
    }
   ],
   "source": [
    "w.qslider.favunit = mm\n",
    "w"
   ]
  },
  {
   "attachments": {},
   "cell_type": "markdown",
   "metadata": {},
   "source": [
    "# Fixed-Dimension QuantityText\n",
    "A QuantityText that will set a dimension at creation, and not allow any other dimension:"
   ]
  },
  {
   "attachments": {},
   "cell_type": "markdown",
   "metadata": {},
   "source": [
    "A fixed-dimensionless quantity : (trying to set a quantity with another dimension will be ignored : example : type in '5\\*m' then Enter)"
   ]
  },
  {
   "cell_type": "code",
   "execution_count": 25,
   "metadata": {},
   "outputs": [
    {
     "data": {
      "application/vnd.jupyter.widget-view+json": {
       "model_id": "69c24fe765454680b724e4827ad21543",
       "version_major": 2,
       "version_minor": 0
      },
      "text/plain": [
       "FDQuantityText(value=<Quantity : 0.0 >, children=(Text(value='0.0 -', description='Quantity:', layout=Layout(b…"
      ]
     },
     "execution_count": 25,
     "metadata": {},
     "output_type": "execute_result"
    }
   ],
   "source": [
    "from numpy import pi\n",
    "from physipy import m\n",
    "from physipywidgets.qipywidgets import FDQuantityText\n",
    "# init at value 0, then change its value and print\n",
    "w2 = FDQuantityText()\n",
    "w2"
   ]
  },
  {
   "cell_type": "code",
   "execution_count": 28,
   "metadata": {},
   "outputs": [
    {
     "name": "stdout",
     "output_type": "stream",
     "text": [
      "<class 'physipy.quantity.quantity.Quantity'> 0.0 -\n"
     ]
    }
   ],
   "source": [
    "print(type(w2.value), w2.value)"
   ]
  },
  {
   "attachments": {},
   "cell_type": "markdown",
   "metadata": {},
   "source": [
    "A fixed-length quantity :"
   ]
  },
  {
   "cell_type": "code",
   "execution_count": 29,
   "metadata": {},
   "outputs": [
    {
     "data": {
      "application/vnd.jupyter.widget-view+json": {
       "model_id": "ca8abd9182eb4debbc79942e54acda54",
       "version_major": 2,
       "version_minor": 0
      },
      "text/plain": [
       "FDQuantityText(value=<Quantity : 3.141592653589793 m, symbol=m*UndefinedSymbol>, children=(Text(value='3.14159…"
      ]
     },
     "execution_count": 29,
     "metadata": {},
     "output_type": "execute_result"
    }
   ],
   "source": [
    "# create with a length, then only another can be set\n",
    "w3 = FDQuantityText(pi*m)\n",
    "w3\n",
    "# try setting a quantity with another dimension -->"
   ]
  },
  {
   "cell_type": "code",
   "execution_count": 30,
   "metadata": {},
   "outputs": [
    {
     "name": "stdout",
     "output_type": "stream",
     "text": [
      "3.141592653589793 m\n"
     ]
    }
   ],
   "source": [
    "print(w3.value)"
   ]
  },
  {
   "attachments": {},
   "cell_type": "markdown",
   "metadata": {},
   "source": [
    "# Testing with QuantityText"
   ]
  },
  {
   "attachments": {},
   "cell_type": "markdown",
   "metadata": {},
   "source": [
    "## interact without abbreviation"
   ]
  },
  {
   "attachments": {},
   "cell_type": "markdown",
   "metadata": {},
   "source": [
    "The `QuantityText` widget can be passed to `ipywidgets.interact` decorator : "
   ]
  },
  {
   "cell_type": "code",
   "execution_count": 31,
   "metadata": {},
   "outputs": [
    {
     "data": {
      "application/vnd.jupyter.widget-view+json": {
       "model_id": "2e2b146bdea241bf8e5cd9ebb31848d3",
       "version_major": 2,
       "version_minor": 0
      },
      "text/plain": [
       "interactive(children=(QuantityText(value=<Quantity : 2 m, symbol=m*UndefinedSymbol>, children=(Text(value='2.0…"
      ]
     },
     "metadata": {},
     "output_type": "display_data"
    }
   ],
   "source": [
    "# define widget\n",
    "qs = QuantityText(2*m)\n",
    "\n",
    "# define function\n",
    "\n",
    "\n",
    "def toto(x):\n",
    "    return str(x*2)\n",
    "\n",
    "\n",
    "# wrap function with interact and pass widget\n",
    "res = ipyw.interact(toto, x=qs);"
   ]
  },
  {
   "attachments": {},
   "cell_type": "markdown",
   "metadata": {},
   "source": [
    "Or equivalently using the decorator notation"
   ]
  },
  {
   "cell_type": "code",
   "execution_count": 32,
   "metadata": {},
   "outputs": [
    {
     "data": {
      "application/vnd.jupyter.widget-view+json": {
       "model_id": "c9dc89a8089b4d93bcdfd0100f22cdd0",
       "version_major": 2,
       "version_minor": 0
      },
      "text/plain": [
       "interactive(children=(QuantityText(value=<Quantity : 7 m, symbol=m*UndefinedSymbol>, children=(Text(value='7.0…"
      ]
     },
     "metadata": {},
     "output_type": "display_data"
    }
   ],
   "source": [
    "# equivalently\n",
    "@ipyw.interact(x=qs)\n",
    "def toto(x):\n",
    "    return str(x*2)"
   ]
  },
  {
   "attachments": {},
   "cell_type": "markdown",
   "metadata": {},
   "source": [
    "## boxing\n",
    "The `QuantityText` can wrapped in any `ipywidgets.Box` : "
   ]
  },
  {
   "cell_type": "code",
   "execution_count": 33,
   "metadata": {},
   "outputs": [
    {
     "data": {
      "application/vnd.jupyter.widget-view+json": {
       "model_id": "0603ac45bc3d47e9b97d1206aa162f1e",
       "version_major": 2,
       "version_minor": 0
      },
      "text/plain": [
       "VBox(children=(QuantityText(value=<Quantity : 2 m, symbol=m*UndefinedSymbol>, children=(Text(value='2.0 m', de…"
      ]
     },
     "execution_count": 33,
     "metadata": {},
     "output_type": "execute_result"
    }
   ],
   "source": [
    "# define widget\n",
    "qs = QuantityText(2*m)\n",
    "\n",
    "# wrap widget in VBox\n",
    "ipyw.VBox([qs, qs])"
   ]
  },
  {
   "attachments": {},
   "cell_type": "markdown",
   "metadata": {},
   "source": [
    "## interactive\n",
    "The `QuantityText` can used with the `ipywidgets.interactive` decorator. The interactive widget returns a widget containing the result of the function in w.result."
   ]
  },
  {
   "cell_type": "code",
   "execution_count": 34,
   "metadata": {},
   "outputs": [],
   "source": [
    "# interact without abbreviation\n",
    "qs = QuantityText(2*m)\n",
    "\n",
    "# define function\n",
    "\n",
    "\n",
    "def slow_function(i):\n",
    "    \"\"\"\n",
    "    Sleep for 1 second then print the argument\n",
    "    \"\"\"\n",
    "    from time import sleep\n",
    "    print('Sleeping...')\n",
    "    sleep(1)\n",
    "    print(i)\n",
    "    print(2*i)\n",
    "    return i*2\n",
    "\n",
    "\n",
    "# wrap function with widget\n",
    "w = ipyw.interactive(slow_function, i=qs)"
   ]
  },
  {
   "cell_type": "code",
   "execution_count": 35,
   "metadata": {},
   "outputs": [
    {
     "data": {
      "application/vnd.jupyter.widget-view+json": {
       "model_id": "ee8f1022f98e457cba2016e86dbca748",
       "version_major": 2,
       "version_minor": 0
      },
      "text/plain": [
       "interactive(children=(QuantityText(value=<Quantity : 2 m, symbol=m*UndefinedSymbol>, children=(Text(value='2.0…"
      ]
     },
     "execution_count": 35,
     "metadata": {},
     "output_type": "execute_result"
    }
   ],
   "source": [
    "w"
   ]
  },
  {
   "cell_type": "code",
   "execution_count": 36,
   "metadata": {},
   "outputs": [
    {
     "data": {
      "text/latex": [
       "$2.0\\,das$"
      ],
      "text/plain": [
       "<Quantity : 20 s, symbol=s*UndefinedSymbol*UndefinedSymbol>"
      ]
     },
     "execution_count": 36,
     "metadata": {},
     "output_type": "execute_result"
    }
   ],
   "source": [
    "w.result"
   ]
  },
  {
   "attachments": {},
   "cell_type": "markdown",
   "metadata": {},
   "source": [
    "## interact manual"
   ]
  },
  {
   "cell_type": "code",
   "execution_count": 37,
   "metadata": {},
   "outputs": [
    {
     "data": {
      "application/vnd.jupyter.widget-view+json": {
       "model_id": "4e61193c52b844838da9f9040a2cc89c",
       "version_major": 2,
       "version_minor": 0
      },
      "text/plain": [
       "interactive(children=(QuantityText(value=<Quantity : 2 m, symbol=m*UndefinedSymbol>, children=(Text(value='2.0…"
      ]
     },
     "metadata": {},
     "output_type": "display_data"
    }
   ],
   "source": [
    "qs = QuantityText(2*m)\n",
    "\n",
    "\n",
    "def slow_function(i):\n",
    "    \"\"\"\n",
    "    Sleep for 1 second then print the argument\n",
    "    \"\"\"\n",
    "    from time import sleep\n",
    "    print('Sleeping...')\n",
    "    sleep(1)\n",
    "    print(i)\n",
    "\n",
    "\n",
    "decorated_slow_function = ipyw.interact_manual(slow_function, i=qs)"
   ]
  },
  {
   "attachments": {},
   "cell_type": "markdown",
   "metadata": {},
   "source": [
    "## interactive output\n",
    "\n",
    "Build complete UI using QuantityText for inputs, and outputs, and wrap with interactive_outputs:"
   ]
  },
  {
   "cell_type": "code",
   "execution_count": 38,
   "metadata": {},
   "outputs": [],
   "source": [
    "# inputs widgets\n",
    "wa = QuantityText(2*m)\n",
    "wb = QuantityText(2*m)\n",
    "wc = QuantityText(2*m)\n",
    "\n",
    "# An HBox lays out its children horizontally\n",
    "ui = ipyw.VBox([wa, wb, wc])\n",
    "\n",
    "# define function\n",
    "\n",
    "\n",
    "def f(a, b, c):\n",
    "    # You can use print here instead of display because interactive_output generates a normal notebook\n",
    "    # output area.\n",
    "    print((a, b, c))\n",
    "    res = a*b/c\n",
    "    print(res)\n",
    "    display(res)\n",
    "    return res\n",
    "\n",
    "\n",
    "# create output widget\n",
    "out = ipyw.interactive_output(f, {'a': wa, 'b': wb, 'c': wc})"
   ]
  },
  {
   "cell_type": "code",
   "execution_count": 39,
   "metadata": {},
   "outputs": [
    {
     "data": {
      "application/vnd.jupyter.widget-view+json": {
       "model_id": "81d6aa489a4242b3bdd50e7ecf73d110",
       "version_major": 2,
       "version_minor": 0
      },
      "text/plain": [
       "VBox(children=(QuantityText(value=<Quantity : 2 m, symbol=m*UndefinedSymbol>, children=(Text(value='2.0 m', de…"
      ]
     },
     "metadata": {},
     "output_type": "display_data"
    },
    {
     "data": {
      "application/vnd.jupyter.widget-view+json": {
       "model_id": "22e3a277d28b4b6a9565e97d6df8d9d3",
       "version_major": 2,
       "version_minor": 0
      },
      "text/plain": [
       "Output(outputs=({'name': 'stdout', 'text': '(<Quantity : 2 m, symbol=m*UndefinedSymbol>, <Quantity : 2 m, symb…"
      ]
     },
     "metadata": {},
     "output_type": "display_data"
    }
   ],
   "source": [
    "# display full UI\n",
    "display(ui, out)"
   ]
  },
  {
   "cell_type": "code",
   "execution_count": 42,
   "metadata": {},
   "outputs": [],
   "source": [
    "wb.value = 20*m"
   ]
  },
  {
   "attachments": {},
   "cell_type": "markdown",
   "metadata": {},
   "source": [
    "## link\n",
    "Support linking :"
   ]
  },
  {
   "cell_type": "code",
   "execution_count": 43,
   "metadata": {},
   "outputs": [],
   "source": [
    "qw1 = QuantityText(2*m)\n",
    "qw2 = QuantityText(2*m)\n",
    "\n",
    "# create link\n",
    "mylink = ipyw.link((qw1, 'value'), (qw2, 'value'))"
   ]
  },
  {
   "cell_type": "code",
   "execution_count": 44,
   "metadata": {},
   "outputs": [
    {
     "data": {
      "application/vnd.jupyter.widget-view+json": {
       "model_id": "6bad556ee6ed46b89d7a48b2600d379a",
       "version_major": 2,
       "version_minor": 0
      },
      "text/plain": [
       "QuantityText(value=<Quantity : 2 m, symbol=m*UndefinedSymbol>, children=(Text(value='2.0 m', description='Quan…"
      ]
     },
     "execution_count": 44,
     "metadata": {},
     "output_type": "execute_result"
    }
   ],
   "source": [
    "qw1"
   ]
  },
  {
   "cell_type": "code",
   "execution_count": 45,
   "metadata": {},
   "outputs": [
    {
     "data": {
      "application/vnd.jupyter.widget-view+json": {
       "model_id": "9c95a3d990394496b45344ba30bb9684",
       "version_major": 2,
       "version_minor": 0
      },
      "text/plain": [
       "QuantityText(value=<Quantity : 2 m, symbol=m*UndefinedSymbol>, children=(Text(value='2.0 m', description='Quan…"
      ]
     },
     "execution_count": 45,
     "metadata": {},
     "output_type": "execute_result"
    }
   ],
   "source": [
    "qw2"
   ]
  },
  {
   "attachments": {},
   "cell_type": "markdown",
   "metadata": {},
   "source": [
    "## observe"
   ]
  },
  {
   "cell_type": "code",
   "execution_count": 46,
   "metadata": {
    "lines_to_next_cell": 0
   },
   "outputs": [],
   "source": [
    "# create widget\n",
    "qw = QuantityText(2*m)\n",
    "\n",
    "# create text output that displays the widget value\n",
    "square_display = ipyw.HTML(description=\"Square: \",\n",
    "                           value='{}'.format(qw.value**2))\n",
    "\n",
    "# create observe link\n",
    "\n",
    "\n",
    "def update_square_display(change):\n",
    "    square_display.value = '{}'.format(change.new**2)\n",
    "\n",
    "\n",
    "qw.observe(update_square_display, names='value')"
   ]
  },
  {
   "cell_type": "code",
   "execution_count": 47,
   "metadata": {
    "lines_to_next_cell": 0
   },
   "outputs": [
    {
     "data": {
      "application/vnd.jupyter.widget-view+json": {
       "model_id": "97113eb6ea9f4013b3a498be279febd5",
       "version_major": 2,
       "version_minor": 0
      },
      "text/plain": [
       "VBox(children=(QuantityText(value=<Quantity : 2 m, symbol=m*UndefinedSymbol>, children=(Text(value='2.0 m', de…"
      ]
     },
     "execution_count": 47,
     "metadata": {},
     "output_type": "execute_result"
    }
   ],
   "source": [
    "# wrap input widget and text ouput\n",
    "ipyw.VBox([qw, square_display])"
   ]
  },
  {
   "attachments": {},
   "cell_type": "markdown",
   "metadata": {},
   "source": [
    "# Sliders"
   ]
  },
  {
   "attachments": {},
   "cell_type": "markdown",
   "metadata": {},
   "source": [
    "## Basic QuantitySlider"
   ]
  },
  {
   "attachments": {},
   "cell_type": "markdown",
   "metadata": {},
   "source": [
    "For simplicity purpose, the dimension cannot be changed (`w4.min = 2\\*s` is not expected):"
   ]
  },
  {
   "cell_type": "code",
   "execution_count": 48,
   "metadata": {},
   "outputs": [],
   "source": [
    "from numpy import pi\n",
    "import ipywidgets as ipyw\n",
    "from physipy import units, m\n",
    "from physipywidgets.qipywidgets import QuantitySlider\n",
    "mm = units[\"mm\"]"
   ]
  },
  {
   "cell_type": "code",
   "execution_count": 49,
   "metadata": {},
   "outputs": [
    {
     "data": {
      "application/vnd.jupyter.widget-view+json": {
       "model_id": "857d469902e942f5866c77eb1e260108",
       "version_major": 2,
       "version_minor": 0
      },
      "text/plain": [
       "QuantitySlider(value=<Quantity : 3 m, symbol=m*UndefinedSymbol>, children=(FloatSlider(value=3.0, description=…"
      ]
     },
     "execution_count": 49,
     "metadata": {},
     "output_type": "execute_result"
    }
   ],
   "source": [
    "w4 = QuantitySlider(3*m)\n",
    "w4"
   ]
  },
  {
   "attachments": {},
   "cell_type": "markdown",
   "metadata": {},
   "source": [
    "### Working with favunits\n",
    "By default, anytime a Quantity is passed with a favunit, it will be used to display"
   ]
  },
  {
   "cell_type": "code",
   "execution_count": 50,
   "metadata": {},
   "outputs": [
    {
     "data": {
      "application/vnd.jupyter.widget-view+json": {
       "model_id": "4d4247887ca24d14ac110fabf5701f87",
       "version_major": 2,
       "version_minor": 0
      },
      "text/plain": [
       "QuantitySlider(value=<Quantity : 3.141592653589793 m, symbol=m*UndefinedSymbol>, children=(FloatSlider(value=3…"
      ]
     },
     "execution_count": 50,
     "metadata": {},
     "output_type": "execute_result"
    }
   ],
   "source": [
    "q = pi*m\n",
    "q.favunit = mm\n",
    "\n",
    "w6 = QuantitySlider(q)\n",
    "w6"
   ]
  },
  {
   "attachments": {},
   "cell_type": "markdown",
   "metadata": {},
   "source": [
    "### Disable label"
   ]
  },
  {
   "cell_type": "code",
   "execution_count": 51,
   "metadata": {},
   "outputs": [
    {
     "data": {
      "application/vnd.jupyter.widget-view+json": {
       "model_id": "afa74e9c17e64a48838f0c9431606a22",
       "version_major": 2,
       "version_minor": 0
      },
      "text/plain": [
       "QuantitySlider(value=<Quantity : 3.141592653589793 m, symbol=m*UndefinedSymbol>, children=(FloatSlider(value=3…"
      ]
     },
     "execution_count": 51,
     "metadata": {},
     "output_type": "execute_result"
    }
   ],
   "source": [
    "w6 = QuantitySlider(q, label=False)\n",
    "w6"
   ]
  },
  {
   "cell_type": "code",
   "execution_count": 53,
   "metadata": {},
   "outputs": [
    {
     "name": "stdout",
     "output_type": "stream",
     "text": [
      "70.10000000000001 m\n"
     ]
    }
   ],
   "source": [
    "print(w6.value)"
   ]
  },
  {
   "attachments": {},
   "cell_type": "markdown",
   "metadata": {},
   "source": [
    "### observing"
   ]
  },
  {
   "attachments": {},
   "cell_type": "markdown",
   "metadata": {},
   "source": [
    "Observing works (just not the VBoxing)"
   ]
  },
  {
   "cell_type": "code",
   "execution_count": 54,
   "metadata": {},
   "outputs": [
    {
     "data": {
      "application/vnd.jupyter.widget-view+json": {
       "model_id": "c722266c77ab432baf7e544a0e715807",
       "version_major": 2,
       "version_minor": 0
      },
      "text/plain": [
       "QuantitySlider(value=<Quantity : 7.5 m, symbol=m*UndefinedSymbol>, children=(FloatSlider(value=7.5, descriptio…"
      ]
     },
     "metadata": {},
     "output_type": "display_data"
    },
    {
     "data": {
      "application/vnd.jupyter.widget-view+json": {
       "model_id": "de825a6587a44ac79de9117193cf0879",
       "version_major": 2,
       "version_minor": 0
      },
      "text/plain": [
       "HTML(value='56.25 m**2', description='Square: ')"
      ]
     },
     "metadata": {},
     "output_type": "display_data"
    }
   ],
   "source": [
    "slider = QuantitySlider(value=7.5*m)\n",
    "\n",
    "# Create non-editable text area to display square of value\n",
    "square_display = ipyw.HTML(description=\"Square: \",\n",
    "                           value='{}'.format(slider.value**2))\n",
    "\n",
    "# Create function to update square_display's value when slider changes\n",
    "\n",
    "\n",
    "def update_square_display(change):\n",
    "    square_display.value = '{}'.format(change.new**2)\n",
    "\n",
    "\n",
    "slider.observe(update_square_display, names='value')\n",
    "\n",
    "# Put them in a vertical box\n",
    "display(slider, square_display)"
   ]
  },
  {
   "attachments": {},
   "cell_type": "markdown",
   "metadata": {},
   "source": [
    "### boxing"
   ]
  },
  {
   "cell_type": "code",
   "execution_count": 55,
   "metadata": {},
   "outputs": [
    {
     "data": {
      "application/vnd.jupyter.widget-view+json": {
       "model_id": "f6640b4b60c94d10a6ac790f347bd9c6",
       "version_major": 2,
       "version_minor": 0
      },
      "text/plain": [
       "VBox(children=(QuantitySlider(value=<Quantity : 23.0 m>, children=(FloatSlider(value=23.0, description='Quanti…"
      ]
     },
     "execution_count": 55,
     "metadata": {},
     "output_type": "execute_result"
    }
   ],
   "source": [
    "ipyw.VBox([slider, slider])"
   ]
  },
  {
   "attachments": {},
   "cell_type": "markdown",
   "metadata": {},
   "source": [
    "### interactive output"
   ]
  },
  {
   "cell_type": "code",
   "execution_count": 56,
   "metadata": {},
   "outputs": [
    {
     "data": {
      "application/vnd.jupyter.widget-view+json": {
       "model_id": "513312fd22744acd85f74cfc728f4db2",
       "version_major": 2,
       "version_minor": 0
      },
      "text/plain": [
       "VBox(children=(QuantitySlider(value=<Quantity : 2 m, symbol=m*UndefinedSymbol>, children=(FloatSlider(value=2.…"
      ]
     },
     "metadata": {},
     "output_type": "display_data"
    },
    {
     "data": {
      "application/vnd.jupyter.widget-view+json": {
       "model_id": "ff528e212a25476f8e4a4168eefa8769",
       "version_major": 2,
       "version_minor": 0
      },
      "text/plain": [
       "Output()"
      ]
     },
     "metadata": {},
     "output_type": "display_data"
    }
   ],
   "source": [
    "# inputs widgets\n",
    "wa = QuantitySlider(2*m)\n",
    "wb = QuantitySlider(2*m)\n",
    "wc = QuantitySlider(2*m)\n",
    "\n",
    "# An HBox lays out its children horizontally\n",
    "ui = ipyw.VBox([wa, wb, wc])\n",
    "\n",
    "# define function\n",
    "\n",
    "\n",
    "def f(a, b, c):\n",
    "    # You can use print here instead of display because interactive_output generates a normal notebook\n",
    "    # output area.\n",
    "    #print((a, b, c))\n",
    "    res = a*b/c\n",
    "    # print(res)\n",
    "    display(res)\n",
    "    return res\n",
    "\n",
    "\n",
    "# create output widget\n",
    "out = ipyw.interactive_output(f, {'a': wa, 'b': wb, 'c': wc})\n",
    "\n",
    "display(ui, out)"
   ]
  },
  {
   "attachments": {},
   "cell_type": "markdown",
   "metadata": {},
   "source": [
    "## QuantityTextSlider"
   ]
  },
  {
   "cell_type": "code",
   "execution_count": 57,
   "metadata": {},
   "outputs": [],
   "source": [
    "from physipywidgets.qipywidgets import QuantityTextSlider\n",
    "import ipywidgets as ipyw"
   ]
  },
  {
   "cell_type": "code",
   "execution_count": 58,
   "metadata": {},
   "outputs": [
    {
     "data": {
      "application/vnd.jupyter.widget-view+json": {
       "model_id": "38e1ec3edfd1477ead73858ae607b549",
       "version_major": 2,
       "version_minor": 0
      },
      "text/plain": [
       "QuantityTextSlider(value=<Quantity : 3 m, symbol=m*UndefinedSymbol>, children=(QuantitySlider(value=<Quantity …"
      ]
     },
     "execution_count": 58,
     "metadata": {},
     "output_type": "execute_result"
    }
   ],
   "source": [
    "from numpy import pi\n",
    "from physipy import m, units, rad\n",
    "mm = units[\"mm\"]\n",
    "km = units[\"km\"]\n",
    "\n",
    "\n",
    "w = QuantityTextSlider(3*m)\n",
    "w"
   ]
  },
  {
   "cell_type": "code",
   "execution_count": 59,
   "metadata": {},
   "outputs": [
    {
     "data": {
      "application/vnd.jupyter.widget-view+json": {
       "model_id": "2ac490d3110940348a22ce1465992a28",
       "version_major": 2,
       "version_minor": 0
      },
      "text/plain": [
       "QuantityTextSlider(value=<Quantity : 3 rad, symbol=rad*UndefinedSymbol>, children=(QuantitySlider(value=<Quant…"
      ]
     },
     "execution_count": 59,
     "metadata": {},
     "output_type": "execute_result"
    }
   ],
   "source": [
    "w = QuantityTextSlider(3*rad, min=3*rad, max = 100*rad)\n",
    "w"
   ]
  },
  {
   "cell_type": "code",
   "execution_count": 60,
   "metadata": {},
   "outputs": [
    {
     "data": {
      "application/vnd.jupyter.widget-view+json": {
       "model_id": "bb34734823f248a48634f5cd2132d9d7",
       "version_major": 2,
       "version_minor": 0
      },
      "text/plain": [
       "QuantityTextSlider(value=<Quantity : 3.141592653589793 m, symbol=m*UndefinedSymbol>, children=(QuantitySlider(…"
      ]
     },
     "execution_count": 60,
     "metadata": {},
     "output_type": "execute_result"
    }
   ],
   "source": [
    "q = pi*m\n",
    "q.favunit = mm\n",
    "w = QuantityTextSlider(q)\n",
    "w"
   ]
  },
  {
   "cell_type": "code",
   "execution_count": 48,
   "metadata": {},
   "outputs": [],
   "source": [
    "# play around with the above widget's favunit\n",
    "#w.favunit = km\n",
    "#w.qslider.favunit = mm"
   ]
  },
  {
   "cell_type": "code",
   "execution_count": 61,
   "metadata": {},
   "outputs": [
    {
     "data": {
      "application/vnd.jupyter.widget-view+json": {
       "model_id": "6287b687c7b745ab881a796f58771f75",
       "version_major": 2,
       "version_minor": 0
      },
      "text/plain": [
       "QuantityTextSlider(value=<Quantity : 3.141592653589793 m, symbol=m*UndefinedSymbol>, children=(QuantitySlider(…"
      ]
     },
     "execution_count": 61,
     "metadata": {},
     "output_type": "execute_result"
    }
   ],
   "source": [
    "q = pi*m\n",
    "w = QuantityTextSlider(q, favunit=km)\n",
    "w"
   ]
  },
  {
   "cell_type": "code",
   "execution_count": 62,
   "metadata": {},
   "outputs": [
    {
     "data": {
      "application/vnd.jupyter.widget-view+json": {
       "model_id": "da91ea1fffc1456b8c1309fa2cab89e8",
       "version_major": 2,
       "version_minor": 0
      },
      "text/plain": [
       "QuantityTextSlider(value=<Quantity : 2 m, symbol=m*UndefinedSymbol>, children=(QuantitySlider(value=<Quantity …"
      ]
     },
     "metadata": {},
     "output_type": "display_data"
    },
    {
     "data": {
      "application/vnd.jupyter.widget-view+json": {
       "model_id": "fa2b03a3bc85434e8eb0365618a016e3",
       "version_major": 2,
       "version_minor": 0
      },
      "text/plain": [
       "QuantityTextSlider(value=<Quantity : 2 m, symbol=m*UndefinedSymbol>, children=(QuantitySlider(value=<Quantity …"
      ]
     },
     "metadata": {},
     "output_type": "display_data"
    }
   ],
   "source": [
    "qw1 = QuantityTextSlider(2*m)\n",
    "qw2 = QuantityTextSlider(2*m)\n",
    "\n",
    "# create link\n",
    "mylink = ipyw.link((qw1, 'value'), (qw2, 'value'))\n",
    "display(qw1, qw2)"
   ]
  },
  {
   "cell_type": "code",
   "execution_count": 63,
   "metadata": {},
   "outputs": [
    {
     "data": {
      "application/vnd.jupyter.widget-view+json": {
       "model_id": "4147b0c19e60437cb0342508c3e45eca",
       "version_major": 2,
       "version_minor": 0
      },
      "text/plain": [
       "QuantityTextSlider(value=<Quantity : 7.5 m, symbol=m*UndefinedSymbol>, children=(QuantitySlider(value=<Quantit…"
      ]
     },
     "metadata": {},
     "output_type": "display_data"
    },
    {
     "data": {
      "application/vnd.jupyter.widget-view+json": {
       "model_id": "3fdfd24f4fdc471f913434e4d945cb1d",
       "version_major": 2,
       "version_minor": 0
      },
      "text/plain": [
       "HTML(value='56.25 m**2', description='Square: ')"
      ]
     },
     "metadata": {},
     "output_type": "display_data"
    }
   ],
   "source": [
    "slider = QuantityTextSlider(\n",
    "    7.5*m)\n",
    "\n",
    "# Create non-editable text area to display square of value\n",
    "square_display = ipyw.HTML(description=\"Square: \",\n",
    "                           value='{}'.format(slider.value**2))\n",
    "\n",
    "# Create function to update square_display's value when slider changes\n",
    "\n",
    "\n",
    "def update_square_display(change):\n",
    "    square_display.value = '{}'.format(change.new**2)\n",
    "\n",
    "\n",
    "slider.observe(update_square_display, names='value')\n",
    "\n",
    "# Put them in a vertical box\n",
    "display(slider, square_display)"
   ]
  },
  {
   "cell_type": "code",
   "execution_count": 64,
   "metadata": {},
   "outputs": [
    {
     "data": {
      "application/vnd.jupyter.widget-view+json": {
       "model_id": "431a574532ea46d08e0faab32b0d0e63",
       "version_major": 2,
       "version_minor": 0
      },
      "text/plain": [
       "VBox(children=(QuantityTextSlider(value=<Quantity : 7.5 m, symbol=m*UndefinedSymbol>, children=(QuantitySlider…"
      ]
     },
     "execution_count": 64,
     "metadata": {},
     "output_type": "execute_result"
    }
   ],
   "source": [
    "ipyw.VBox([slider, slider])"
   ]
  },
  {
   "cell_type": "code",
   "execution_count": 65,
   "metadata": {},
   "outputs": [
    {
     "data": {
      "application/vnd.jupyter.widget-view+json": {
       "model_id": "e76a0e335b494f79aeb5548d69a045cc",
       "version_major": 2,
       "version_minor": 0
      },
      "text/plain": [
       "VBox(children=(QuantityTextSlider(value=<Quantity : 2 m, symbol=m*UndefinedSymbol>, children=(QuantitySlider(v…"
      ]
     },
     "metadata": {},
     "output_type": "display_data"
    },
    {
     "data": {
      "application/vnd.jupyter.widget-view+json": {
       "model_id": "a910892d142c4853b2d71ffc2b8bad5d",
       "version_major": 2,
       "version_minor": 0
      },
      "text/plain": [
       "Output()"
      ]
     },
     "metadata": {},
     "output_type": "display_data"
    }
   ],
   "source": [
    "# inputs widgets\n",
    "wa = QuantityTextSlider(2*m, description=\"Toto:\")\n",
    "wb = QuantityTextSlider(2*m)\n",
    "wc = QuantityTextSlider(2*m)\n",
    "\n",
    "# An HBox lays out its children horizontally\n",
    "ui = ipyw.VBox([wa, wb, wc])\n",
    "\n",
    "# define function\n",
    "\n",
    "\n",
    "def f(a, b, c):\n",
    "    # You can use print here instead of display because interactive_output generates a normal notebook\n",
    "    # output area.\n",
    "    #print((a, b, c))\n",
    "    res = a*b/c\n",
    "    # print(res)\n",
    "    display(res)\n",
    "    return res\n",
    "\n",
    "\n",
    "# create output widget\n",
    "out = ipyw.interactive_output(f, {'a': wa, 'b': wb, 'c': wc})\n",
    "\n",
    "display(ui, out)"
   ]
  },
  {
   "cell_type": "code",
   "execution_count": null,
   "metadata": {},
   "outputs": [],
   "source": []
  },
  {
   "attachments": {},
   "cell_type": "markdown",
   "metadata": {},
   "source": [
    "# QuantityRangeSlider"
   ]
  },
  {
   "cell_type": "code",
   "execution_count": 67,
   "metadata": {},
   "outputs": [],
   "source": [
    "from physipywidgets.qipywidgets import QuantityRangeSlider\n",
    "import ipywidgets as ipyw"
   ]
  },
  {
   "cell_type": "code",
   "execution_count": 68,
   "metadata": {},
   "outputs": [
    {
     "data": {
      "application/vnd.jupyter.widget-view+json": {
       "model_id": "aa89a0ec663c4f0e986c653e303fa5b5",
       "version_major": 2,
       "version_minor": 0
      },
      "text/plain": [
       "QuantityRangeSlider(value=(<Quantity : 3 m, symbol=m*UndefinedSymbol>, <Quantity : 10 m, symbol=m*UndefinedSym…"
      ]
     },
     "execution_count": 68,
     "metadata": {},
     "output_type": "execute_result"
    }
   ],
   "source": [
    "from physipy import m\n",
    "\n",
    "w = QuantityRangeSlider(3*m, 10*m, label=True)\n",
    "w"
   ]
  },
  {
   "cell_type": "code",
   "execution_count": 69,
   "metadata": {},
   "outputs": [
    {
     "data": {
      "application/vnd.jupyter.widget-view+json": {
       "model_id": "b301e4958bef4d59b68091fdfaa6022a",
       "version_major": 2,
       "version_minor": 0
      },
      "text/plain": [
       "QuantityRangeSlider(value=(<Quantity : 3 m, symbol=m*UndefinedSymbol>, <Quantity : 10 m, symbol=m*UndefinedSym…"
      ]
     },
     "execution_count": 69,
     "metadata": {},
     "output_type": "execute_result"
    }
   ],
   "source": [
    "w = QuantityRangeSlider(3*m, 10*m, label=True, description=\"Toto\")\n",
    "w"
   ]
  },
  {
   "cell_type": "code",
   "execution_count": 70,
   "metadata": {},
   "outputs": [
    {
     "data": {
      "application/vnd.jupyter.widget-view+json": {
       "model_id": "c36b913d2bda4bdd86a88a84eccd125f",
       "version_major": 2,
       "version_minor": 0
      },
      "text/plain": [
       "QuantityRangeSlider(value=(<Quantity : 3 m, symbol=m*UndefinedSymbol>, <Quantity : 10 m, symbol=m*UndefinedSym…"
      ]
     },
     "metadata": {},
     "output_type": "display_data"
    },
    {
     "data": {
      "application/vnd.jupyter.widget-view+json": {
       "model_id": "020cc9044e1648659348cacceac99152",
       "version_major": 2,
       "version_minor": 0
      },
      "text/plain": [
       "QuantityRangeSlider(value=(<Quantity : 3 m, symbol=m*UndefinedSymbol>, <Quantity : 10 m, symbol=m*UndefinedSym…"
      ]
     },
     "metadata": {},
     "output_type": "display_data"
    }
   ],
   "source": [
    "qw1 = QuantityRangeSlider(3*m, 10*m, label=True)\n",
    "qw2 = QuantityRangeSlider(3*m, 10*m, label=True)\n",
    "\n",
    "# create link\n",
    "mylink = ipyw.link((qw1, 'value'), (qw2, 'value'))\n",
    "display(qw1, qw2)"
   ]
  },
  {
   "cell_type": "code",
   "execution_count": 71,
   "metadata": {},
   "outputs": [
    {
     "data": {
      "text/plain": [
       "(<Quantity : 3 m, symbol=m*UndefinedSymbol>,\n",
       " <Quantity : 10 m, symbol=m*UndefinedSymbol>)"
      ]
     },
     "execution_count": 71,
     "metadata": {},
     "output_type": "execute_result"
    }
   ],
   "source": [
    "qw1.value"
   ]
  },
  {
   "cell_type": "code",
   "execution_count": 72,
   "metadata": {},
   "outputs": [
    {
     "data": {
      "text/plain": [
       "(<Quantity : 3 m, symbol=m*UndefinedSymbol>,\n",
       " <Quantity : 10 m, symbol=m*UndefinedSymbol>)"
      ]
     },
     "execution_count": 72,
     "metadata": {},
     "output_type": "execute_result"
    }
   ],
   "source": [
    "qw2.value"
   ]
  },
  {
   "cell_type": "code",
   "execution_count": 73,
   "metadata": {},
   "outputs": [
    {
     "data": {
      "application/vnd.jupyter.widget-view+json": {
       "model_id": "30812d47145f482f901feb8656015135",
       "version_major": 2,
       "version_minor": 0
      },
      "text/plain": [
       "QuantityRangeSlider(value=(<Quantity : 3 m, symbol=m*UndefinedSymbol>, <Quantity : 12 m, symbol=m*UndefinedSym…"
      ]
     },
     "metadata": {},
     "output_type": "display_data"
    },
    {
     "data": {
      "application/vnd.jupyter.widget-view+json": {
       "model_id": "26b9e41cf674459c854fa0800a12558b",
       "version_major": 2,
       "version_minor": 0
      },
      "text/plain": [
       "HTML(value='3 m-12 m', description='Square: ')"
      ]
     },
     "metadata": {},
     "output_type": "display_data"
    }
   ],
   "source": [
    "slider = QuantityRangeSlider(\n",
    "    min=3*m, max=12*m)\n",
    "\n",
    "# Create non-editable text area to display square of value\n",
    "square_display = ipyw.HTML(description=\"Square: \",\n",
    "                           value='{}-{}'.format(slider.value[0], slider.value[1]))\n",
    "\n",
    "# Create function to update square_display's value when slider changes\n",
    "\n",
    "\n",
    "def update_square_display(change):\n",
    "    square_display.value = '{}-{}'.format(change.new[0]**2, change.new[1]**2)\n",
    "\n",
    "\n",
    "slider.observe(update_square_display, names='value')\n",
    "\n",
    "# Put them in a vertical box\n",
    "display(slider, square_display)"
   ]
  },
  {
   "cell_type": "code",
   "execution_count": 74,
   "metadata": {},
   "outputs": [
    {
     "data": {
      "application/vnd.jupyter.widget-view+json": {
       "model_id": "ddef8b71f58146f89f5f57e9fb6a11dc",
       "version_major": 2,
       "version_minor": 0
      },
      "text/plain": [
       "VBox(children=(QuantityRangeSlider(value=(<Quantity : 3 m, symbol=m*UndefinedSymbol>, <Quantity : 12 m, symbol…"
      ]
     },
     "execution_count": 74,
     "metadata": {},
     "output_type": "execute_result"
    }
   ],
   "source": [
    "ipyw.VBox([slider, slider])"
   ]
  },
  {
   "cell_type": "code",
   "execution_count": 75,
   "metadata": {},
   "outputs": [
    {
     "data": {
      "application/vnd.jupyter.widget-view+json": {
       "model_id": "4846e188468244c3a1718dc43ec2671b",
       "version_major": 2,
       "version_minor": 0
      },
      "text/plain": [
       "VBox(children=(QuantityRangeSlider(value=(<Quantity : 3 m, symbol=m*UndefinedSymbol>, <Quantity : 12 m, symbol…"
      ]
     },
     "metadata": {},
     "output_type": "display_data"
    },
    {
     "data": {
      "application/vnd.jupyter.widget-view+json": {
       "model_id": "b58141328ef9479ca05e430c24e94fa6",
       "version_major": 2,
       "version_minor": 0
      },
      "text/plain": [
       "Output()"
      ]
     },
     "metadata": {},
     "output_type": "display_data"
    }
   ],
   "source": [
    "# inputs widgets\n",
    "wa = QuantityRangeSlider(min=3*m, max=12*m)\n",
    "wb = QuantityRangeSlider(min=3*m, max=12*m)\n",
    "wc = QuantityRangeSlider(min=3*m, max=12*m)\n",
    "\n",
    "# An HBox lays out its children horizontally\n",
    "ui = ipyw.VBox([wa, wb, wc])\n",
    "\n",
    "# define function\n",
    "\n",
    "\n",
    "def f(a, b, c):\n",
    "    # You can use print here instead of display because interactive_output generates a normal notebook\n",
    "    # output area.\n",
    "    #print((a, b, c))\n",
    "\n",
    "    res = a[0]*a[1]*b[0]*b[1]/c[0]*c[1]\n",
    "    # print(res)\n",
    "    display(res)\n",
    "    return res\n",
    "\n",
    "\n",
    "# create output widget\n",
    "out = ipyw.interactive_output(f, {'a': wa, 'b': wb, 'c': wc})\n",
    "\n",
    "display(ui, out)"
   ]
  },
  {
   "attachments": {},
   "cell_type": "markdown",
   "metadata": {},
   "source": [
    "Favunit"
   ]
  },
  {
   "cell_type": "code",
   "execution_count": 76,
   "metadata": {},
   "outputs": [],
   "source": [
    "import physipy\n",
    "mm = physipy.units[\"mm\"]"
   ]
  },
  {
   "cell_type": "code",
   "execution_count": 77,
   "metadata": {},
   "outputs": [
    {
     "data": {
      "application/vnd.jupyter.widget-view+json": {
       "model_id": "86492f7f869545e7995522ead7fea738",
       "version_major": 2,
       "version_minor": 0
      },
      "text/plain": [
       "QuantityRangeSlider(value=(<Quantity : 3 m, symbol=m*UndefinedSymbol>, <Quantity : 10 m, symbol=m*UndefinedSym…"
      ]
     },
     "execution_count": 77,
     "metadata": {},
     "output_type": "execute_result"
    }
   ],
   "source": [
    "qw1 = QuantityRangeSlider(3*m, 10*m, label=True, favunit=mm)\n",
    "qw1"
   ]
  },
  {
   "attachments": {},
   "cell_type": "markdown",
   "metadata": {},
   "source": [
    "# FavunitDropdown"
   ]
  },
  {
   "cell_type": "code",
   "execution_count": 79,
   "metadata": {},
   "outputs": [],
   "source": [
    "from physipywidgets.qipywidgets import FavunitDropdown\n",
    "import ipywidgets as ipyw"
   ]
  },
  {
   "cell_type": "code",
   "execution_count": 80,
   "metadata": {},
   "outputs": [
    {
     "data": {
      "application/vnd.jupyter.widget-view+json": {
       "model_id": "fd1c2fcd8d194e00a6dd2fc31084f4cd",
       "version_major": 2,
       "version_minor": 0
      },
      "text/plain": [
       "FavunitDropdown(value=<Quantity : 1 , symbol=->, children=(Dropdown(description='Favunit:', index=598, layout=…"
      ]
     },
     "execution_count": 80,
     "metadata": {},
     "output_type": "execute_result"
    }
   ],
   "source": [
    "w = FavunitDropdown()\n",
    "w"
   ]
  },
  {
   "cell_type": "code",
   "execution_count": 81,
   "metadata": {},
   "outputs": [
    {
     "name": "stdout",
     "output_type": "stream",
     "text": [
      "1 kg\n"
     ]
    }
   ],
   "source": [
    "print(w.value)"
   ]
  },
  {
   "cell_type": "code",
   "execution_count": 83,
   "metadata": {},
   "outputs": [
    {
     "data": {
      "application/vnd.jupyter.widget-view+json": {
       "model_id": "56b9bc23e458471b8675aceed07cfba6",
       "version_major": 2,
       "version_minor": 0
      },
      "text/plain": [
       "FavunitDropdown(value=<Quantity : 1 , symbol=->, children=(Dropdown(description='Favunit:', index=598, layout=…"
      ]
     },
     "metadata": {},
     "output_type": "display_data"
    },
    {
     "data": {
      "application/vnd.jupyter.widget-view+json": {
       "model_id": "3dccc4b9d5024079889b965782878fac",
       "version_major": 2,
       "version_minor": 0
      },
      "text/plain": [
       "HTML(value='1 ', description='Favunit: ')"
      ]
     },
     "metadata": {},
     "output_type": "display_data"
    }
   ],
   "source": [
    "favunit = FavunitDropdown()\n",
    "\n",
    "# Create non-editable text area to display square of value\n",
    "favunit_display = ipyw.HTML(description=\"Favunit: \",\n",
    "                            value='{}'.format(favunit.value))\n",
    "\n",
    "# Create function to update square_display's value when slider changes\n",
    "\n",
    "\n",
    "def update_display(change):\n",
    "    favunit_display.value = '{}, as \"{}\"'.format(change.new, change.new.symbol)\n",
    "\n",
    "\n",
    "favunit.observe(update_display, names='value')\n",
    "\n",
    "# Put them in a vertical box\n",
    "display(favunit, favunit_display)"
   ]
  },
  {
   "cell_type": "code",
   "execution_count": 84,
   "metadata": {},
   "outputs": [
    {
     "data": {
      "application/vnd.jupyter.widget-view+json": {
       "model_id": "bfd338d01e234b06ba30c19e2123dd4b",
       "version_major": 2,
       "version_minor": 0
      },
      "text/plain": [
       "FavunitDropdown(value=<Quantity : 1 , symbol=->, children=(Dropdown(description='Favunit:', index=598, layout=…"
      ]
     },
     "metadata": {},
     "output_type": "display_data"
    },
    {
     "data": {
      "application/vnd.jupyter.widget-view+json": {
       "model_id": "0a907f5f773b43d691bbb235ad3930bc",
       "version_major": 2,
       "version_minor": 0
      },
      "text/plain": [
       "FavunitDropdown(value=<Quantity : 1 , symbol=->, children=(Dropdown(description='Favunit:', index=598, layout=…"
      ]
     },
     "metadata": {},
     "output_type": "display_data"
    }
   ],
   "source": [
    "qw1 = FavunitDropdown()\n",
    "qw2 = FavunitDropdown()\n",
    "\n",
    "# create link\n",
    "mylink = ipyw.link((qw1, 'value'), (qw2, 'value'))\n",
    "display(qw1, qw2)"
   ]
  },
  {
   "cell_type": "code",
   "execution_count": 85,
   "metadata": {},
   "outputs": [
    {
     "name": "stdout",
     "output_type": "stream",
     "text": [
      "1e-21 m**2/s**2 1e-21 m**2/s**2\n"
     ]
    }
   ],
   "source": [
    "print(qw1.value, qw2.value)"
   ]
  },
  {
   "cell_type": "code",
   "execution_count": null,
   "metadata": {},
   "outputs": [],
   "source": []
  },
  {
   "attachments": {},
   "cell_type": "markdown",
   "metadata": {},
   "source": [
    "# Ideas"
   ]
  },
  {
   "attachments": {},
   "cell_type": "markdown",
   "metadata": {},
   "source": [
    "Implement multiple rangesliders"
   ]
  },
  {
   "cell_type": "code",
   "execution_count": 86,
   "metadata": {},
   "outputs": [],
   "source": [
    "from ipywidgets import widgets\n",
    "from IPython.display import display, clear_output\n",
    "\n",
    "\n",
    "def range_elems(first, last, step):\n",
    "    \"\"\"\n",
    "    Return a list of elements starting with first, ending at last with\n",
    "    stepsize of step\n",
    "    \"\"\"\n",
    "    ret = [first]\n",
    "    nxt = first + step\n",
    "    while nxt <= last:\n",
    "        ret.append(nxt)\n",
    "        nxt += step\n",
    "    return ret\n",
    "\n",
    "\n",
    "class MultiRangeSlider(object):\n",
    "    def __init__(self, min=0, max=1, step=0.1, description=\"MultiRange\", disabled=False):\n",
    "        self.min = min\n",
    "        self.max = max\n",
    "        self.step = step\n",
    "        self.description = description\n",
    "        self.disabled = disabled\n",
    "\n",
    "        self.range_slider_list = []\n",
    "\n",
    "        self.add_range_button = widgets.Button(description=\"Add range\")\n",
    "        self.add_range_button.on_click(self.handle_add_range_event)\n",
    "\n",
    "        self.rm_range_button = widgets.Button(description=\"Rm range\")\n",
    "        self.rm_range_button.on_click(self.handle_rm_range_event)\n",
    "\n",
    "        # combined range over all sliders, excluding possible overlaps\n",
    "        self.selected_values = []\n",
    "\n",
    "        # Vertical box for displaying all the sliders\n",
    "        self.vbox = widgets.VBox()\n",
    "\n",
    "        # create a first slider and update vbox children for displaying\n",
    "        self.handle_add_range_event()\n",
    "\n",
    "        # callback function to be called when the widgets value changes\n",
    "        # this needs to accept the usual 'change' dict as in other widgets\n",
    "        self.observe_callback = None\n",
    "\n",
    "    def update_selected_values(self, change):\n",
    "        \"\"\"\n",
    "        find the unique range points from looking at all slider ranges,\n",
    "        effectively ignores overlapping areas.\n",
    "        Called on every change of a single slider\n",
    "        \"\"\"\n",
    "        range_points_lst = []\n",
    "        for slider in self.range_slider_list:\n",
    "            # get the current range delimiters\n",
    "            r_min, r_max = slider.value\n",
    "            # make sure that the range includes the endpoint r_max\n",
    "            range_points = range_elems(r_min, r_max, slider.step)\n",
    "            range_points_lst.append(range_points)\n",
    "\n",
    "        # now collapse the list of lists\n",
    "        flattened_range_point_lst = [\n",
    "            item for lst in range_points_lst for item in lst]\n",
    "        # make deep copy for callback reference\n",
    "        old = [val for val in self.selected_values]\n",
    "        # get unique values only\n",
    "        self.selected_values = sorted(list(set(flattened_range_point_lst)))\n",
    "\n",
    "        #print(\"updated self.selected_values = \", self.selected_values)\n",
    "        # call the callback function if there is one\n",
    "        if self.observe_callback:\n",
    "            change = dict()\n",
    "            change[\"owner\"] = self\n",
    "            change[\"type\"] = \"change\"\n",
    "            change[\"name\"] = \"value\"\n",
    "            change[\"old\"] = old\n",
    "            change[\"new\"] = self.selected_values\n",
    "            self.observe_callback(change)\n",
    "\n",
    "    def handle_rm_range_event(self, b=None):\n",
    "        \"\"\"\n",
    "        \"\"\"\n",
    "        if len(self.range_slider_list) > 1:\n",
    "            # remove last slider\n",
    "            self.range_slider_list.pop()\n",
    "\n",
    "        # update the display\n",
    "        first_line = widgets.HBox(\n",
    "            [self.range_slider_list[0], self.add_range_button, self.rm_range_button])\n",
    "        self.vbox.children = [first_line] + self.range_slider_list[1:]\n",
    "\n",
    "        # update visibility of rm button\n",
    "        self.rm_range_button.disabled = True if len(\n",
    "            self.range_slider_list) == 1 else False\n",
    "\n",
    "    def handle_add_range_event(self, b=None):\n",
    "        \"\"\"\n",
    "        Callback function of the 'Add' button that displays another RangeSlider.\n",
    "        \"\"\"\n",
    "        # adds a range slider to the list\n",
    "        self.add_range_slider()\n",
    "        # update elements of the displayed vbox so display will update immediately\n",
    "        first_line = widgets.HBox(\n",
    "            [self.range_slider_list[0], self.add_range_button, self.rm_range_button])\n",
    "        self.vbox.children = [first_line] + self.range_slider_list[1:]\n",
    "\n",
    "        # activate rm button if there is more than one slider\n",
    "        self.rm_range_button.disabled = True if len(\n",
    "            self.range_slider_list) == 1 else False\n",
    "\n",
    "    def add_range_slider(self):\n",
    "        \"\"\"\n",
    "        Add another range slider to the list of range sliders, that, when its\n",
    "        value changes, updates the combined range of the current object.\n",
    "        \"\"\"\n",
    "        # a new range slider is requested, but don't show description again\n",
    "        slider = widgets.FloatRangeSlider(\n",
    "            min=self.min,\n",
    "            max=self.max,\n",
    "            step=self.step,\n",
    "            disabled=self.disabled,\n",
    "            continuous_update=False,\n",
    "            orientation='horizontal',\n",
    "            readout=True,\n",
    "            readout_format='.1f',\n",
    "        )\n",
    "        if not self.range_slider_list:\n",
    "            # first slider gets a description\n",
    "            slider.description = \"MultiRangeSlider\"\n",
    "\n",
    "        # when its value changes, update internal selection of combined range\n",
    "        slider.observe(self.update_selected_values, names='value')\n",
    "\n",
    "        self.range_slider_list.append(slider)\n",
    "\n",
    "    def display(self):\n",
    "        \"\"\"\n",
    "        Show the widget in the notebook.\n",
    "        \"\"\"\n",
    "        # create a vbox that contains all sliders below each other\n",
    "        display(self.vbox)\n",
    "\n",
    "    def observe(self, fun):\n",
    "        \"\"\"\n",
    "        Set the callback function that is called when any of the RangeSliders changes\n",
    "        \"\"\"\n",
    "        self.observe_callback = fun"
   ]
  },
  {
   "cell_type": "code",
   "execution_count": 87,
   "metadata": {},
   "outputs": [
    {
     "data": {
      "application/vnd.jupyter.widget-view+json": {
       "model_id": "643187adfa5b468eabe51feda250f1f2",
       "version_major": 2,
       "version_minor": 0
      },
      "text/plain": [
       "VBox(children=(HBox(children=(FloatRangeSlider(value=(0.25, 0.75), continuous_update=False, description='Multi…"
      ]
     },
     "metadata": {},
     "output_type": "display_data"
    },
    {
     "name": "stdout",
     "output_type": "stream",
     "text": [
      "[0.3, 0.4, 0.5, 0.6, 0.7, 0.7999999999999999]\n",
      "[0.1, 0.2, 0.30000000000000004, 0.4, 0.5, 0.6, 0.7, 0.7999999999999999]\n",
      "[0.1, 0.2, 0.3, 0.30000000000000004, 0.4, 0.5, 0.6, 0.7, 0.7999999999999999, 0.8999999999999999]\n",
      "[0.1, 0.2, 0.30000000000000004, 0.4, 0.5, 0.6, 0.7, 0.7999999999999999, 0.8999999999999999]\n",
      "[0.1, 0.2, 0.3, 0.30000000000000004, 0.4, 0.5, 0.6, 0.7, 0.7999999999999999, 0.8999999999999999]\n",
      "[0.1, 0.2, 0.30000000000000004, 0.4, 0.5, 0.6, 0.7, 0.7999999999999999, 0.8999999999999999]\n"
     ]
    }
   ],
   "source": [
    "multi_range = MultiRangeSlider()\n",
    "multi_range.observe(lambda change: print(change[\"new\"]))\n",
    "multi_range.display()"
   ]
  },
  {
   "cell_type": "code",
   "execution_count": 88,
   "metadata": {},
   "outputs": [
    {
     "data": {
      "application/vnd.jupyter.widget-view+json": {
       "model_id": "f1c071236e8d424e852dfb62af83c546",
       "version_major": 2,
       "version_minor": 0
      },
      "text/plain": [
       "interactive(children=(IntSlider(value=10, description='x', max=30, min=-10), Output()), _dom_classes=('widget-…"
      ]
     },
     "metadata": {},
     "output_type": "display_data"
    }
   ],
   "source": [
    "from ipywidgets import interact, interactive\n",
    "\n",
    "\n",
    "def f(x):\n",
    "    return 2*x\n",
    "\n",
    "\n",
    "w = interact(f, x=10);"
   ]
  },
  {
   "cell_type": "code",
   "execution_count": 70,
   "metadata": {},
   "outputs": [
    {
     "data": {
      "text/plain": [
       "4"
      ]
     },
     "execution_count": 70,
     "metadata": {},
     "output_type": "execute_result"
    }
   ],
   "source": [
    "w(2)"
   ]
  },
  {
   "cell_type": "code",
   "execution_count": 71,
   "metadata": {},
   "outputs": [],
   "source": [
    "w = interactive(f, x=10)"
   ]
  },
  {
   "cell_type": "code",
   "execution_count": 72,
   "metadata": {},
   "outputs": [
    {
     "data": {
      "application/vnd.jupyter.widget-view+json": {
       "model_id": "741a91db8c92485996c9c4a0eeb02079",
       "version_major": 2,
       "version_minor": 0
      },
      "text/plain": [
       "interactive(children=(IntSlider(value=10, description='x', max=30, min=-10), Output()), _dom_classes=('widget-…"
      ]
     },
     "metadata": {},
     "output_type": "display_data"
    }
   ],
   "source": [
    "w"
   ]
  },
  {
   "cell_type": "code",
   "execution_count": 73,
   "metadata": {},
   "outputs": [
    {
     "name": "stdout",
     "output_type": "stream",
     "text": [
      "20\n"
     ]
    }
   ],
   "source": [
    "print(w.result)"
   ]
  },
  {
   "cell_type": "code",
   "execution_count": 94,
   "metadata": {},
   "outputs": [
    {
     "data": {
      "application/vnd.jupyter.widget-view+json": {
       "model_id": "2db9466c942b41b7a3dbebd66a04381d",
       "version_major": 2,
       "version_minor": 0
      },
      "text/plain": [
       "interactive(children=(FloatSlider(value=32.3, description='x', max=40.0, min=30.0), Output()), _dom_classes=('…"
      ]
     },
     "execution_count": 94,
     "metadata": {},
     "output_type": "execute_result"
    }
   ],
   "source": [
    "w"
   ]
  },
  {
   "cell_type": "code",
   "execution_count": 95,
   "metadata": {},
   "outputs": [],
   "source": [
    "w = interactive(f, x=ipyw.FloatSlider(min=30, max=40))"
   ]
  },
  {
   "cell_type": "code",
   "execution_count": 93,
   "metadata": {},
   "outputs": [
    {
     "data": {
      "application/vnd.jupyter.widget-view+json": {
       "model_id": "2db9466c942b41b7a3dbebd66a04381d",
       "version_major": 2,
       "version_minor": 0
      },
      "text/plain": [
       "interactive(children=(FloatSlider(value=30.0, description='x', max=40.0, min=30.0), Output()), _dom_classes=('…"
      ]
     },
     "execution_count": 93,
     "metadata": {},
     "output_type": "execute_result"
    }
   ],
   "source": [
    "w"
   ]
  },
  {
   "cell_type": "code",
   "execution_count": 77,
   "metadata": {},
   "outputs": [
    {
     "data": {
      "text/plain": [
       "60.0"
      ]
     },
     "execution_count": 77,
     "metadata": {},
     "output_type": "execute_result"
    }
   ],
   "source": [
    "w.result"
   ]
  },
  {
   "cell_type": "code",
   "execution_count": 78,
   "metadata": {},
   "outputs": [
    {
     "data": {
      "text/plain": [
       "ipywidgets.widgets.interaction.interactive"
      ]
     },
     "execution_count": 78,
     "metadata": {},
     "output_type": "execute_result"
    }
   ],
   "source": [
    "type(w)"
   ]
  },
  {
   "cell_type": "code",
   "execution_count": 79,
   "metadata": {},
   "outputs": [],
   "source": [
    "a = ipyw.IntSlider()\n",
    "b = ipyw.IntSlider()\n",
    "c = ipyw.IntSlider()\n",
    "ui = ipyw.HBox([a, b, c])\n",
    "\n",
    "\n",
    "def f(a, b, c):\n",
    "    return a*b*c\n",
    "\n",
    "\n",
    "out = ipyw.interactive_output(f, {'a': a, 'b': b, 'c': c})"
   ]
  },
  {
   "cell_type": "code",
   "execution_count": 91,
   "metadata": {},
   "outputs": [
    {
     "data": {
      "application/vnd.jupyter.widget-view+json": {
       "model_id": "b58141328ef9479ca05e430c24e94fa6",
       "version_major": 2,
       "version_minor": 0
      },
      "text/plain": [
       "Output(outputs=({'output_type': 'display_data', 'data': {'text/plain': '<Quantity : 5184.0 m**4, symbol=m*Unde…"
      ]
     },
     "execution_count": 91,
     "metadata": {},
     "output_type": "execute_result"
    }
   ],
   "source": [
    "out"
   ]
  },
  {
   "cell_type": "code",
   "execution_count": null,
   "metadata": {},
   "outputs": [],
   "source": []
  },
  {
   "cell_type": "code",
   "execution_count": null,
   "metadata": {},
   "outputs": [],
   "source": []
  }
 ],
 "metadata": {
  "jupytext": {
   "text_representation": {
    "extension": ".py",
    "format_name": "percent",
    "format_version": "1.3",
    "jupytext_version": "1.13.4"
   }
  },
  "kernelspec": {
   "display_name": "Python 3 (ipykernel)",
   "language": "python",
   "name": "python3"
  },
  "language_info": {
   "codemirror_mode": {
    "name": "ipython",
    "version": 3
   },
   "file_extension": ".py",
   "mimetype": "text/x-python",
   "name": "python",
   "nbconvert_exporter": "python",
   "pygments_lexer": "ipython3",
   "version": "3.9.18"
  },
  "toc-autonumbering": true,
  "toc-showcode": false,
  "toc-showmarkdowntxt": false
 },
 "nbformat": 4,
 "nbformat_minor": 4
}
