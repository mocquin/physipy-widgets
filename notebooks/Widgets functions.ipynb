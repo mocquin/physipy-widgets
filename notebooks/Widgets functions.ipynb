{
 "cells": [
  {
   "attachments": {},
   "cell_type": "markdown",
   "metadata": {},
   "source": [
    "# Function UI with widgets and decorators"
   ]
  },
  {
   "attachments": {},
   "cell_type": "markdown",
   "metadata": {},
   "source": [
    "It is possible to get a function widget just using decorators : \n",
    " - if available, a \"name\" will be displayed\n",
    " - if available, an equation in Latex will be displayed\n",
    " - if available, the annotation will be used as start value for inputs\n",
    " - if available, the annotation for output will used as favunit"
   ]
  },
  {
   "cell_type": "code",
   "execution_count": 1,
   "metadata": {},
   "outputs": [],
   "source": [
    "from physipy.quantity.utils import latex_eq, name_eq\n",
    "from physipy import units, sr, constants, m, s\n",
    "import numpy as np\n",
    "from physipy.qwidgets.ui import ui_widget_decorate_from_annotations, ui_widget_decorate\n",
    "\n",
    "pi = np.pi\n",
    "g = constants[\"g\"]\n",
    "mm = units['mm']\n",
    "msr = units[\"msr\"]"
   ]
  },
  {
   "attachments": {},
   "cell_type": "markdown",
   "metadata": {},
   "source": [
    "## using functions"
   ]
  },
  {
   "cell_type": "code",
   "execution_count": 2,
   "metadata": {
    "tags": []
   },
   "outputs": [
    {
     "data": {
      "application/vnd.jupyter.widget-view+json": {
       "model_id": "0684d14f312441febe40d7822e98773f",
       "version_major": 2,
       "version_minor": 0
      },
      "text/plain": [
       "VBox(children=(HBox(children=(Label(value='Speed:'), Label(value='v = d/t'))), VBox(children=(QuantityText(val…"
      ]
     },
     "metadata": {},
     "output_type": "display_data"
    }
   ],
   "source": [
    "# define the function, and optionnaly add decorators, and annotations\n",
    "@latex_eq(r\"v = d/t\")\n",
    "@name_eq(\"Speed\")\n",
    "def speed(length: m, time: s) -> m/s:\n",
    "    return length / time\n",
    "\n",
    "\n",
    "# create the ui\n",
    "speed_ui = ui_widget_decorate_from_annotations(speed)\n",
    "\n",
    "# display the ui\n",
    "speed_ui"
   ]
  },
  {
   "cell_type": "code",
   "execution_count": 3,
   "metadata": {},
   "outputs": [
    {
     "data": {
      "application/vnd.jupyter.widget-view+json": {
       "model_id": "7f7411a228174483950dd2d74578d329",
       "version_major": 2,
       "version_minor": 0
      },
      "text/plain": [
       "VBox(children=(HBox(children=(Label(value='Speed:'), Label(value='v = d/t'))), VBox(children=(QuantityTextSlid…"
      ]
     },
     "metadata": {},
     "output_type": "display_data"
    }
   ],
   "source": [
    "# define the function, and optionnaly add decorators, and annotations\n",
    "@latex_eq(r\"v = d/t\")\n",
    "@name_eq(\"Speed\")\n",
    "def speed(length: m, time: s) -> m/s:\n",
    "    return length / time\n",
    "\n",
    "# create the ui\n",
    "speed_ui = ui_widget_decorate_from_annotations(speed, kind=\"TextSlider\")\n",
    "\n",
    "# display the ui\n",
    "speed_ui"
   ]
  },
  {
   "cell_type": "code",
   "execution_count": 4,
   "metadata": {},
   "outputs": [
    {
     "data": {
      "application/vnd.jupyter.widget-view+json": {
       "model_id": "549ba3847c574092afd949c601cae612",
       "version_major": 2,
       "version_minor": 0
      },
      "text/plain": [
       "VBox(children=(HBox(children=(Label(value='Speed:'), Label(value='$v = d/t$'))), VBox(children=(QuantityText(v…"
      ]
     },
     "metadata": {},
     "output_type": "display_data"
    }
   ],
   "source": [
    "# define the function, and optionnaly add decorators, and annotations\n",
    "@latex_eq(r\"$v = d/t$\")\n",
    "@name_eq(\"Speed\")\n",
    "def speed(length: m, time: s) -> m/s:\n",
    "    return length / time\n",
    "\n",
    "\n",
    "# create the ui\n",
    "speed_ui = ui_widget_decorate_from_annotations(speed)\n",
    "\n",
    "# display the ui\n",
    "speed_ui"
   ]
  },
  {
   "attachments": {},
   "cell_type": "markdown",
   "metadata": {
    "tags": []
   },
   "source": [
    "## using decorator notation"
   ]
  },
  {
   "attachments": {},
   "cell_type": "markdown",
   "metadata": {},
   "source": [
    "Equivalently using decorator notation"
   ]
  },
  {
   "cell_type": "code",
   "execution_count": 5,
   "metadata": {},
   "outputs": [
    {
     "data": {
      "application/vnd.jupyter.widget-view+json": {
       "model_id": "19a19942f8b84032b19f5e83b6a2ccb4",
       "version_major": 2,
       "version_minor": 0
      },
      "text/plain": [
       "VBox(children=(HBox(children=(Label(value='Speed:'), Label(value='$v = \\\\frac{d}{t}$'))), VBox(children=(Quant…"
      ]
     },
     "metadata": {},
     "output_type": "display_data"
    }
   ],
   "source": [
    "# equivalently\n",
    "@ui_widget_decorate_from_annotations\n",
    "@latex_eq(r\"$v = \\frac{d}{t}$\")\n",
    "@name_eq(\"Speed\")\n",
    "def speed(length: 2*m, time: 10*s) -> m/s:\n",
    "    return length / time\n",
    "\n",
    "\n",
    "speed"
   ]
  },
  {
   "attachments": {},
   "cell_type": "markdown",
   "metadata": {},
   "source": [
    "More examples"
   ]
  },
  {
   "cell_type": "code",
   "execution_count": 6,
   "metadata": {},
   "outputs": [
    {
     "data": {
      "application/vnd.jupyter.widget-view+json": {
       "model_id": "8f85bb34561a4770a859933fe6cd1d9a",
       "version_major": 2,
       "version_minor": 0
      },
      "text/plain": [
       "VBox(children=(HBox(children=(Label(value='PSA:'), Label(value='$\\\\Omega = \\\\frac{\\\\pi}{4(f/D)^2}$'))), VBox(c…"
      ]
     },
     "metadata": {},
     "output_type": "display_data"
    }
   ],
   "source": [
    "# define the function, and optionnaly add decorators, and annotations\n",
    "@latex_eq(r\"$\\Omega = \\frac{\\pi}{4(f/D)^2}$\")\n",
    "@name_eq(\"PSA\")\n",
    "def psa(f: m, D: m) -> msr:          # the output will be displayed using msr\n",
    "    return np.pi / (4*(f/D)**2)*sr\n",
    "\n",
    "\n",
    "# create the ui\n",
    "psa_ui = ui_widget_decorate_from_annotations(psa)\n",
    "\n",
    "# display the ui\n",
    "psa_ui"
   ]
  },
  {
   "cell_type": "code",
   "execution_count": 7,
   "metadata": {},
   "outputs": [
    {
     "data": {
      "application/vnd.jupyter.widget-view+json": {
       "model_id": "f3c10b19031d4f4883d4e72be5305d15",
       "version_major": 2,
       "version_minor": 0
      },
      "text/plain": [
       "VBox(children=(HBox(children=(Label(value='Pendulum period ::'), Label(value='$T = 2\\\\pi \\\\sqrt{\\\\frac{L}{g}}$…"
      ]
     },
     "metadata": {},
     "output_type": "display_data"
    }
   ],
   "source": [
    "# define the function, and optionnaly add decorators, and annotations\n",
    "@latex_eq(r\"$T = 2\\pi \\sqrt{\\frac{L}{g}}$\")\n",
    "@name_eq(\"Pendulum period :\")\n",
    "def pendulum_period(L: mm):\n",
    "    return 2 * pi * np.sqrt(L/g)\n",
    "\n",
    "\n",
    "# create the ui\n",
    "pendulum_ui = ui_widget_decorate_from_annotations(pendulum_period)\n",
    "\n",
    "# display the ui\n",
    "pendulum_ui"
   ]
  },
  {
   "attachments": {},
   "cell_type": "markdown",
   "metadata": {},
   "source": [
    "Without annotations"
   ]
  },
  {
   "cell_type": "code",
   "execution_count": 8,
   "metadata": {},
   "outputs": [
    {
     "data": {
      "application/vnd.jupyter.widget-view+json": {
       "model_id": "b80bf7f936a34bb1b182eca907ec16c8",
       "version_major": 2,
       "version_minor": 0
      },
      "text/plain": [
       "VBox(children=(HBox(children=(Label(value='Cut-off frequency of R-C circuit ::'), Label(value='$f_c = \\\\frac{1…"
      ]
     },
     "metadata": {},
     "output_type": "display_data"
    }
   ],
   "source": [
    "ohm = units[\"ohm\"]\n",
    "farad = units[\"F\"]\n",
    "\n",
    "\n",
    "@latex_eq(r\"$f_c = \\frac{1}{2\\pi RC}$\")\n",
    "@name_eq(\"Cut-off frequency of R-C circuit :\")\n",
    "def freq_RC(R, C):\n",
    "    return 1/(2 * pi * R * C)\n",
    "\n",
    "\n",
    "freq_RC_ui = ui_widget_decorate([(\"R\", ohm),\n",
    "                                 (\"C\", farad, \"Capacitance\")])(freq_RC)\n",
    "\n",
    "freq_RC_ui"
   ]
  },
  {
   "attachments": {},
   "cell_type": "markdown",
   "metadata": {},
   "source": [
    "With favunit output"
   ]
  },
  {
   "cell_type": "code",
   "execution_count": 9,
   "metadata": {},
   "outputs": [
    {
     "data": {
      "application/vnd.jupyter.widget-view+json": {
       "model_id": "cea716b487bd47c297409d8b9484b206",
       "version_major": 2,
       "version_minor": 0
      },
      "text/plain": [
       "VBox(children=(HBox(children=(Label(value='Cut-off frequency of R-C circuit ::'), Label(value='$f_c = \\\\frac{1…"
      ]
     },
     "metadata": {},
     "output_type": "display_data"
    }
   ],
   "source": [
    "Hz = units[\"Hz\"]\n",
    "GHz = Hz*10**9\n",
    "GHz.symbol = \"GHz\"\n",
    "\n",
    "from physipy import set_favunit\n",
    "\n",
    "@ui_widget_decorate_from_annotations\n",
    "@set_favunit(GHz)\n",
    "@latex_eq(r\"$f_c = \\frac{1}{2\\pi RC}$\")\n",
    "@name_eq(\"Cut-off frequency of R-C circuit :\")\n",
    "def freq_RC(R:ohm, C:farad):\n",
    "    return 1/(2 * pi * R * C)\n",
    "\n",
    "freq_RC"
   ]
  },
  {
   "attachments": {},
   "cell_type": "markdown",
   "metadata": {},
   "source": [
    "Use annotation to set favunit"
   ]
  },
  {
   "cell_type": "code",
   "execution_count": 10,
   "metadata": {},
   "outputs": [
    {
     "data": {
      "application/vnd.jupyter.widget-view+json": {
       "model_id": "6e6e0987c246441f8bb5d3768b9ca921",
       "version_major": 2,
       "version_minor": 0
      },
      "text/plain": [
       "VBox(children=(HBox(children=(Label(value='Cut-off frequency of R-C circuit ::'), Label(value='$f_c = \\\\frac{1…"
      ]
     },
     "metadata": {},
     "output_type": "display_data"
    }
   ],
   "source": [
    "@ui_widget_decorate_from_annotations\n",
    "@latex_eq(r\"$f_c = \\frac{1}{2\\pi RC}$\")\n",
    "@name_eq(\"Cut-off frequency of R-C circuit :\")\n",
    "def freq_RC(R:ohm, C:farad)->GHz:\n",
    "    return 1/(2 * pi * R * C)\n",
    "\n",
    "freq_RC"
   ]
  },
  {
   "attachments": {},
   "cell_type": "markdown",
   "metadata": {},
   "source": [
    "# Function UI accordion"
   ]
  },
  {
   "attachments": {},
   "cell_type": "markdown",
   "metadata": {},
   "source": [
    "Use to generate UIs for a bunch of annotated functions"
   ]
  },
  {
   "cell_type": "code",
   "execution_count": 11,
   "metadata": {},
   "outputs": [
    {
     "data": {
      "application/vnd.jupyter.widget-view+json": {
       "model_id": "9927f78e39c34a6aabe53d8ed10938aa",
       "version_major": 2,
       "version_minor": 0
      },
      "text/plain": [
       "Tab(children=(Accordion(children=(VBox(children=(VBox(children=(Label(value='speed:'), VBox(children=(Quantity…"
      ]
     },
     "metadata": {},
     "output_type": "display_data"
    }
   ],
   "source": [
    "from physipy import units, imperial_units, rad\n",
    "from physipy.qwidgets.ui import FunctionUI\n",
    "from physipy.quantity.utils import latex_eq\n",
    "\n",
    "# get some units\n",
    "mm = units[\"mm\"]\n",
    "mum = units[\"mum\"]\n",
    "\n",
    "hour = units[\"h\"]\n",
    "mile = imperial_units[\"mil\"]\n",
    "mph = mile/hour\n",
    "mph.symbol = \"mph\"\n",
    "\n",
    "murad = units[\"murad\"]\n",
    "\n",
    "# define functions with annotations\n",
    "def speed(x:m, time:s)-> m/s:\n",
    "    return x/time\n",
    "\n",
    "@latex_eq(r\"$\\lambda/D$\")  # add latex equation\n",
    "def diffraction(lmbda:mum, D:mm)->murad: # output will be displayed in micro-radians\n",
    "    return lmbda/D*rad\n",
    "\n",
    "\n",
    "# module name\n",
    "tab_name = \"Physics\"\n",
    "\n",
    "functions_dict = {\n",
    "    \"Mechanics\": [\n",
    "        speed,\n",
    "    ],\n",
    "    \"Optics\": [\n",
    "        diffraction,\n",
    "    ]\n",
    "}\n",
    "\n",
    "ui= FunctionUI(tab_name, functions_dict, kind=\"TextSlider\")\n",
    "ui"
   ]
  },
  {
   "cell_type": "code",
   "execution_count": null,
   "metadata": {},
   "outputs": [],
   "source": []
  }
 ],
 "metadata": {
  "jupytext": {
   "text_representation": {
    "extension": ".py",
    "format_name": "percent",
    "format_version": "1.3",
    "jupytext_version": "1.13.4"
   }
  },
  "kernelspec": {
   "display_name": "Python 3 (ipykernel)",
   "language": "python",
   "name": "python3"
  },
  "language_info": {
   "codemirror_mode": {
    "name": "ipython",
    "version": 3
   },
   "file_extension": ".py",
   "mimetype": "text/x-python",
   "name": "python",
   "nbconvert_exporter": "python",
   "pygments_lexer": "ipython3",
   "version": "3.9.7"
  }
 },
 "nbformat": 4,
 "nbformat_minor": 4
}
